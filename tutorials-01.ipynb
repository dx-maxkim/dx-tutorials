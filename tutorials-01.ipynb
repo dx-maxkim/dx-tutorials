{
 "cells": [
  {
   "cell_type": "markdown",
   "id": "2dcfff26-61ce-46f1-b08f-5669e3ead9a8",
   "metadata": {},
   "source": [
    "# DXNN® - DEEPX NPU SDK (DX-AS: DEEPX All Suite)\n",
    "\n",
    "DX-AS (DEEPX All Suite) is an integrated environment of frameworks and tools that enables inference and compilation of AI models using DEEPX devices. Users can build the integrated environment by installing individual tools, but DX-AS maintains optimal compatibility by aligning the versions of the individual tools.\n",
    "\n",
    "![](https://github.com/DEEPX-AI/dx-all-suite/raw/main/docs/source/resources/deepx_dxnn_sdk_simple.png)\n",
    "\n",
    "The DEEPX SDK is primarily divided into two key parts.\n",
    "\n",
    "The first is the AI Model Compile Environment part, which transforms your AI model into an optimized format for efficient execution on the DEEPX NPU.\n",
    "\n",
    "The second is the AI Model Runtime Environment part, which executes the compiled AI model on the actual DEEPX NPU hardware to generate results.\n",
    "\n",
    "By using DX-Allsuite, you can set up both components seamlessly, without managing them individually.\n",
    "\n",
    "![](https://github.com/DEEPX-AI/dx-all-suite/raw/main/docs/source/img/dx-as.png)\n",
    "![](https://github.com/DEEPX-AI/dx-all-suite/raw/main/docs/source/img/dx-as2.png)"
   ]
  },
  {
   "cell_type": "markdown",
   "id": "2af4c675-fced-4ac2-ab69-05a2a8abbeb9",
   "metadata": {},
   "source": [
    "# Download DEEPX All Suite\n",
    "\n",
    "You can download dx-all-suite package from the following git repository:\n",
    "- https://github.com/DEEPX-AI/dx-all-suite\n"
   ]
  },
  {
   "cell_type": "markdown",
   "id": "3b0789e3-bf0c-4304-8545-bed41a13b3be",
   "metadata": {},
   "source": [
    "## Download `dx-all-suite` and see what's included:"
   ]
  },
  {
   "cell_type": "code",
   "execution_count": null,
   "id": "89e51164-f28a-43b4-94ac-9f0a078a8ac2",
   "metadata": {},
   "outputs": [],
   "source": [
    "# Clone the main repository including sub-modules \n",
    "!git clone --recurse-submodules https://github.com/DEEPX-AI/dx-all-suite.git\n",
    "\n",
    "# Move to dx-all-suite directory\n",
    "%cd dx-all-suite"
   ]
  },
  {
   "cell_type": "markdown",
   "id": "ee6ce747-f96c-417f-917f-9cccd54be3ec",
   "metadata": {},
   "source": [
    "There are two key components:\n",
    " - dx-compiler: Converting from ONNX to DXNN\n",
    " - dx-runtime: Running the compiled AI model on the actual DEEPX NPU hardware to generate results"
   ]
  },
  {
   "cell_type": "code",
   "execution_count": null,
   "id": "6f42776d-7bc5-49e7-b620-cef4ff89843a",
   "metadata": {},
   "outputs": [],
   "source": [
    "#!sudo apt install tree\n",
    "!tree -L 1"
   ]
  },
  {
   "cell_type": "markdown",
   "id": "2ab0cf89-7974-40e6-8117-18165d1ef10f",
   "metadata": {},
   "source": [
    "DX-Runtime provides:\n",
    " - DX_APP: DEEPX User's Application Templates to show how to use DX NPU in user app perspective\n",
    " - DX_FW: NPU F/W binary\n",
    " - DX_RT: Framework designed for optimized execution of inference tasks using DX NPU\n",
    " - DX_NPU driver: Linux kernel driver for DX NPU\n",
    " - DX_STREAM: GStreamer-based Vision AI application development tools for DX NPU"
   ]
  },
  {
   "cell_type": "code",
   "execution_count": null,
   "id": "9604a885-5aab-4831-b052-f3ffa5e0d29b",
   "metadata": {},
   "outputs": [],
   "source": [
    "!tree -L 1 dx-runtime"
   ]
  },
  {
   "cell_type": "markdown",
   "id": "912db406-4064-4ea1-b075-c455abeab01f",
   "metadata": {},
   "source": [
    "## Install DX-COM"
   ]
  },
  {
   "cell_type": "markdown",
   "id": "c342f780-67f2-4914-a52d-321b5fe55b72",
   "metadata": {},
   "source": [
    "For more details, visit the official repo of DX-COM 👉 [Link](https://github.com/DEEPX-AI/dx-all-suite/blob/staging/docs/source/installation.md)\n"
   ]
  },
  {
   "cell_type": "markdown",
   "id": "e8158e1f-0476-46b1-b72a-94006d838653",
   "metadata": {},
   "source": [
    "## Install DX-Runtime\n",
    "For more details, visit the official repo of DX-Runtime 👉 [Link](https://github.com/DEEPX-AI/dx-all-suite/blob/staging/docs/source/installation.md)"
   ]
  },
  {
   "cell_type": "markdown",
   "id": "5a923f2b-8ed3-454b-b171-6162b87349ed",
   "metadata": {},
   "source": [
    "The DX-Runtime environment includes source code for each module. The repositories are managed as Git submodules(dx_rt_npu_linux_driver, dx_rt, dx_app, and dx_stream) under ./dx-runtime.\n",
    "To build and install all modules, run:"
   ]
  },
  {
   "cell_type": "code",
   "execution_count": null,
   "id": "8b2f4d87-95f2-452b-999e-41e5ed9ae0cb",
   "metadata": {},
   "outputs": [],
   "source": [
    "!./dx-runtime/install.sh --help"
   ]
  },
  {
   "cell_type": "code",
   "execution_count": null,
   "id": "9003a6c1-b85b-4650-bb6e-f4297196d748",
   "metadata": {},
   "outputs": [],
   "source": [
    "!./dx-runtime/install.sh --all"
   ]
  },
  {
   "cell_type": "code",
   "execution_count": null,
   "id": "8a845b06-0a1d-4ab3-8f66-0c362905f158",
   "metadata": {},
   "outputs": [],
   "source": [
    "!lspci | grep acc"
   ]
  },
  {
   "cell_type": "code",
   "execution_count": null,
   "id": "c7bb583c-55f3-4e19-a185-68eb81b59678",
   "metadata": {},
   "outputs": [],
   "source": [
    "!lsmod | grep dxrt"
   ]
  },
  {
   "cell_type": "code",
   "execution_count": null,
   "id": "1bcfae85-6cbf-4ef0-b731-2233b15fcca3",
   "metadata": {},
   "outputs": [],
   "source": [
    "!systemctl status dxrt.service"
   ]
  },
  {
   "cell_type": "code",
   "execution_count": null,
   "id": "44dca267-7154-460b-855a-333c20ae82bd",
   "metadata": {},
   "outputs": [],
   "source": [
    "!dxtop -h"
   ]
  },
  {
   "cell_type": "code",
   "execution_count": null,
   "id": "8d573a1d-1ad7-4258-89f9-145c82d6776b",
   "metadata": {},
   "outputs": [],
   "source": [
    "!dxrt-cli -h"
   ]
  },
  {
   "cell_type": "code",
   "execution_count": null,
   "id": "493868e7-db38-4a5a-aa0b-0fc4a8161e9a",
   "metadata": {},
   "outputs": [],
   "source": [
    "!run_model -h"
   ]
  },
  {
   "cell_type": "code",
   "execution_count": null,
   "id": "fe8b44f6-4234-494a-af7b-2055ed07f3e6",
   "metadata": {},
   "outputs": [],
   "source": [
    "!ls dx-runtime/dx_rt/bin"
   ]
  },
  {
   "cell_type": "code",
   "execution_count": null,
   "id": "f48ecfc5-981c-4d9b-8b67-e58a473a1687",
   "metadata": {},
   "outputs": [],
   "source": []
  }
 ],
 "metadata": {
  "kernelspec": {
   "display_name": "Python 3 (ipykernel)",
   "language": "python",
   "name": "python3"
  },
  "language_info": {
   "codemirror_mode": {
    "name": "ipython",
    "version": 3
   },
   "file_extension": ".py",
   "mimetype": "text/x-python",
   "name": "python",
   "nbconvert_exporter": "python",
   "pygments_lexer": "ipython3",
   "version": "3.12.3"
  }
 },
 "nbformat": 4,
 "nbformat_minor": 5
}
