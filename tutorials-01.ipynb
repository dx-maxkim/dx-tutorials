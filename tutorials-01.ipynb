{
 "cells": [
  {
   "cell_type": "markdown",
   "id": "7561e296-41b4-44c3-ab4f-4c8582f0593f",
   "metadata": {},
   "source": [
    "# DEEPX Tutorial 01 - How to install the DEEPX SDK\n",
    "This first tutorial introduces how to install the DeepX SDK and verify that the setup is successful. You will learn how to prepare the environment, install the SDK, and confirm that your DX-M1 device is properly recognized in your system.\n",
    "\n",
    "This tutorial is based on dx-all-suite v2.0.0, released in September 2025."
   ]
  },
  {
   "cell_type": "markdown",
   "id": "389418ec-fa11-4a60-9822-183b9d441952",
   "metadata": {},
   "source": [
    "## Recommended system for this tutorial:"
   ]
  },
  {
   "cell_type": "markdown",
   "id": "9c427531-ff8d-4e74-93db-8f41d1237db6",
   "metadata": {},
   "source": [
    "`Note:` these requirements are for the tutorial only and are **not mandatory for using DEEPX products.**\n",
    "- OS: Linux (Ubuntu 20.04/22.04/24.04)\n",
    "- RAM: 8G (16G for DX Compiler)\n",
    "- Storage: 4G\n",
    "- DEEPX NPU: DX-M1 or DX-H1\n",
    "- CPU: DX-COM + DX-RT on x86_64, RT only on aarch64"
   ]
  },
  {
   "cell_type": "markdown",
   "id": "2dcfff26-61ce-46f1-b08f-5669e3ead9a8",
   "metadata": {},
   "source": [
    "## DXNN® - DEEPX NPU SDK Introduction (DX-AS: DEEPX All Suite)"
   ]
  },
  {
   "cell_type": "markdown",
   "id": "52b3f559-cb24-4e41-8286-6802b4d96c4d",
   "metadata": {},
   "source": [
    "DX-AS (DEEPX All Suite) is an integrated environment of frameworks and tools that enables inference and compilation of AI models using DEEPX devices. Users can build the integrated environment by installing individual tools, but DX-AS maintains optimal compatibility by aligning the versions of the individual tools.\n",
    "\n",
    "![](https://github.com/DEEPX-AI/dx-all-suite/raw/main/docs/source/resources/deepx_dxnn_sdk_simple.png)\n",
    "\n",
    "The DEEPX SDK is primarily divided into two key parts.\n",
    "\n",
    "The first is the AI Model Compile Environment part, which transforms your AI model into an optimized format for efficient execution on the DEEPX NPU.\n",
    "\n",
    "The second is the AI Model Runtime Environment part, which executes the compiled AI model on the actual DEEPX NPU hardware to generate results.\n",
    "\n",
    "By using DX-Allsuite, you can set up both components seamlessly, without managing them individually.\n",
    "\n",
    "![](https://github.com/DEEPX-AI/dx-all-suite/raw/main/docs/source/img/dx-as.png)\n",
    "![](https://github.com/DEEPX-AI/dx-all-suite/raw/main/docs/source/img/dx-as2.png)"
   ]
  },
  {
   "cell_type": "markdown",
   "id": "2af4c675-fced-4ac2-ab69-05a2a8abbeb9",
   "metadata": {},
   "source": [
    "## Download DEEPX All Suite"
   ]
  },
  {
   "cell_type": "markdown",
   "id": "52538730-1797-4b28-aab9-f3fee120ec0f",
   "metadata": {},
   "source": [
    "You can download dx-all-suite package from the following git repository:\n",
    "- https://github.com/DEEPX-AI/dx-all-suite"
   ]
  },
  {
   "cell_type": "markdown",
   "id": "3b0789e3-bf0c-4304-8545-bed41a13b3be",
   "metadata": {},
   "source": [
    "### Download `dx-all-suite` and see what's included:"
   ]
  },
  {
   "cell_type": "code",
   "execution_count": null,
   "id": "89e51164-f28a-43b4-94ac-9f0a078a8ac2",
   "metadata": {},
   "outputs": [],
   "source": [
    "# Clone the main-v2.0.0 repository including sub-modules \n",
    "!git clone --branch main-v2.0.0 --recurse-submodules https://github.com/DEEPX-AI/dx-all-suite.git\n",
    "\n",
    "# Move to dx-all-suite directory\n",
    "%cd dx-all-suite"
   ]
  },
  {
   "cell_type": "markdown",
   "id": "ee6ce747-f96c-417f-917f-9cccd54be3ec",
   "metadata": {},
   "source": [
    "There are **two key components**:\n",
    " - `dx-compiler`: Converting from ONNX to DXNN\n",
    " - `dx-runtime`: Running the compiled AI model on the actual DEEPX NPU hardware to generate results"
   ]
  },
  {
   "cell_type": "code",
   "execution_count": null,
   "id": "6f42776d-7bc5-49e7-b620-cef4ff89843a",
   "metadata": {},
   "outputs": [],
   "source": [
    "#!sudo apt install tree\n",
    "!tree -L 1"
   ]
  },
  {
   "cell_type": "markdown",
   "id": "2ab0cf89-7974-40e6-8117-18165d1ef10f",
   "metadata": {},
   "source": [
    "DX-Runtime provides:\n",
    " - DX_APP: DEEPX User's Application Templates to show how to use DX NPU in user app perspective\n",
    " - DX_FW: NPU F/W binary\n",
    " - DX_RT: Framework designed for optimized execution of inference tasks using DX NPU\n",
    " - DX_NPU driver: Linux kernel driver for DX NPU\n",
    " - DX_STREAM: GStreamer-based Vision AI application development tools for DX NPU"
   ]
  },
  {
   "cell_type": "code",
   "execution_count": null,
   "id": "9604a885-5aab-4831-b052-f3ffa5e0d29b",
   "metadata": {},
   "outputs": [],
   "source": [
    "!tree -L 1 dx-runtime"
   ]
  },
  {
   "cell_type": "code",
   "execution_count": null,
   "id": "fddc834a-c6a4-49f7-a595-2e7cc0e85aab",
   "metadata": {},
   "outputs": [],
   "source": [
    "!pwd"
   ]
  },
  {
   "cell_type": "markdown",
   "id": "912db406-4064-4ea1-b075-c455abeab01f",
   "metadata": {},
   "source": [
    "## Install DX-Compiler (DX-COM)"
   ]
  },
  {
   "cell_type": "markdown",
   "id": "c342f780-67f2-4914-a52d-321b5fe55b72",
   "metadata": {},
   "source": [
    "For more details, visit the official repo of DX-COM 👉 [Link](https://github.com/DEEPX-AI/dx-all-suite/blob/staging/docs/source/installation.md)\n",
    "\n",
    "The DX-Compiler environment provides prebuilt binary outputs and does not include source code. Each\n",
    "module can be downloaded and installed from a remote server using the following command:\n",
    "\n",
    "- `./dx-compiler/install.sh`\n",
    "\n",
    "When executing the above command, DEEPX Developers' Portal (https://developer.deepx.ai) account\n",
    "authentication may be required to download and install the DX-Compiler modules. The script obtains\n",
    "authentication information based on the following priority:\n",
    "\n",
    "- `./dx-compiler/install.sh --username=<your_email> --password=<your_password>`\n"
   ]
  },
  {
   "cell_type": "markdown",
   "id": "3bdb9b57-de73-4186-bac9-ac1effa245da",
   "metadata": {},
   "source": [
    "### Run the installation script:"
   ]
  },
  {
   "cell_type": "code",
   "execution_count": null,
   "id": "f93395dc-4e12-4f62-8c50-3e307a869bb2",
   "metadata": {},
   "outputs": [],
   "source": [
    "# Runs the DX-Compiler installer while keeping the password hidden from view\n",
    "import getpass\n",
    "\n",
    "username = input(\"Enter your email: \")\n",
    "password = getpass.getpass(\"Enter your password: \")\n",
    "\n",
    "!./dx-compiler/install.sh --username={username} --password={password}"
   ]
  },
  {
   "cell_type": "markdown",
   "id": "3a630bf5-b6dd-4161-a7e9-8d6174110632",
   "metadata": {},
   "source": [
    "\n",
    "Now, let’s see what has been installed after installing DX-COM:"
   ]
  },
  {
   "cell_type": "code",
   "execution_count": null,
   "id": "edf76a8d-5d30-4050-9908-0f069c0a7613",
   "metadata": {},
   "outputs": [],
   "source": [
    "!tree -L 2 dx-compiler"
   ]
  },
  {
   "cell_type": "markdown",
   "id": "63c15643-8cfc-4a6f-a6ee-67451ef0b5fb",
   "metadata": {},
   "source": [
    "Now, let’s explore the files and folders under dx_com:"
   ]
  },
  {
   "cell_type": "code",
   "execution_count": null,
   "id": "3f737f0c-c763-4b0a-a46c-709c3b08e202",
   "metadata": {},
   "outputs": [],
   "source": [
    "!tree -L 1 dx-compiler/dx_com\n",
    "#!tree -L 1 dx-compiler/dx_com/calibration_dataset\n",
    "#!tree -L 1 dx-compiler/dx_com/dx_com\n",
    "#!tree -L 1 dx-compiler/dx_com/sample"
   ]
  },
  {
   "cell_type": "markdown",
   "id": "cffd0d41-fa76-48c4-af02-6a07dcf47057",
   "metadata": {},
   "source": [
    "### Verify DX-COM"
   ]
  },
  {
   "cell_type": "code",
   "execution_count": null,
   "id": "f7367dd7-4c05-4ebc-a3a7-b124e2e10526",
   "metadata": {},
   "outputs": [],
   "source": [
    "# Move to \"dx-tutorials/dx-all-suite/dx-compiler/dx_com\"\n",
    "import os\n",
    "root_path = os.environ.get('ROOT_PATH')\n",
    "%cd $root_path/dx-all-suite/dx-compiler/dx_com"
   ]
  },
  {
   "cell_type": "code",
   "execution_count": null,
   "id": "a363b4cf-26da-4c34-8cad-f9de3d2873c8",
   "metadata": {},
   "outputs": [],
   "source": [
    "!echo $ROOT_PATH"
   ]
  },
  {
   "cell_type": "markdown",
   "id": "1803112e-39d6-4066-8abc-c1c2d61fdfbc",
   "metadata": {},
   "source": [
    "Let's see help option information of `DX-COM`:"
   ]
  },
  {
   "cell_type": "code",
   "execution_count": null,
   "id": "d37ed6ed-a8c5-4f40-aa5f-1d4e89da29e6",
   "metadata": {},
   "outputs": [],
   "source": [
    "!dx_com/dx_com -h"
   ]
  },
  {
   "cell_type": "markdown",
   "id": "9cf00564-56e7-42cf-bbf6-873292fee8da",
   "metadata": {},
   "source": [
    "Compile `MobileNetV1-1.onnx` to generate `MobileNetV1-1.dxnn` file:"
   ]
  },
  {
   "cell_type": "code",
   "execution_count": null,
   "id": "2de6ade0-44ab-4717-8e54-b7c957eda901",
   "metadata": {},
   "outputs": [],
   "source": [
    "!dx_com/dx_com -m sample/MobileNetV1-1.onnx \\\n",
    "               -c sample/MobileNetV1-1.json \\\n",
    "               -o output/MobileNetV1-1"
   ]
  },
  {
   "cell_type": "markdown",
   "id": "8233469e-d738-4c1b-84ae-a451a733a87a",
   "metadata": {},
   "source": [
    "Check if `MobileNetV1-1.dxnn` file is generated:"
   ]
  },
  {
   "cell_type": "code",
   "execution_count": null,
   "id": "888cf046-0a32-4b39-9bac-0f78f38c72ac",
   "metadata": {},
   "outputs": [],
   "source": [
    "!tree -h sample\n",
    "!tree -h output"
   ]
  },
  {
   "cell_type": "markdown",
   "id": "e8158e1f-0476-46b1-b72a-94006d838653",
   "metadata": {},
   "source": [
    "## Install DX-Runtime\n",
    "For more details, visit the official repo of DX-Runtime 👉 [Link](https://github.com/DEEPX-AI/dx-all-suite/blob/staging/docs/source/installation.md)"
   ]
  },
  {
   "cell_type": "code",
   "execution_count": null,
   "id": "9f464198-6a41-45a1-aed5-133f9b588661",
   "metadata": {},
   "outputs": [],
   "source": [
    "# Move to \"dx-tutorials/dx-all-suite\"\n",
    "import os\n",
    "root_path = os.environ.get('ROOT_PATH')\n",
    "%cd $root_path/dx-all-suite"
   ]
  },
  {
   "cell_type": "markdown",
   "id": "1dee6063-b928-4c16-8100-bbde4cc779db",
   "metadata": {},
   "source": [
    "### Prerequisites before installation (orangepi5plus case)\n",
    " - Refer to [here!!](https://github.com/dx-maxkim/dx-tutorials/blob/main/orangepi5p.md)"
   ]
  },
  {
   "cell_type": "markdown",
   "id": "5a923f2b-8ed3-454b-b171-6162b87349ed",
   "metadata": {},
   "source": [
    "The DX-Runtime environment includes source code for each module. The repositories are managed as Git submodules(dx_rt_npu_linux_driver, dx_rt, dx_app, and dx_stream) under ./dx-runtime.\n",
    "\n",
    "Let's see all options of DX-Runtime installation script:\n"
   ]
  },
  {
   "cell_type": "code",
   "execution_count": null,
   "id": "8b2f4d87-95f2-452b-999e-41e5ed9ae0cb",
   "metadata": {},
   "outputs": [],
   "source": [
    "!./dx-runtime/install.sh --help"
   ]
  },
  {
   "cell_type": "markdown",
   "id": "f46c6f59-c240-40ef-beef-c391b6b02ad7",
   "metadata": {},
   "source": [
    "### Install all or DX-Runtime by using \"install.sh --all\" command:"
   ]
  },
  {
   "cell_type": "code",
   "execution_count": null,
   "id": "30890cea-e04f-4f35-8ea4-a09a05593ff3",
   "metadata": {
    "scrolled": true
   },
   "outputs": [],
   "source": [
    "!./dx-runtime/install.sh --all\n",
    "#!./dx-runtime/install.sh --target=dx_rt_npu_linux_driver\n",
    "#!./dx-runtime/install.sh --target=dx_stream --venv-reuse\n",
    "#!./dx-runtime/install.sh --target=dx_app --venv-reuse"
   ]
  },
  {
   "cell_type": "markdown",
   "id": "379be8a6-b287-462b-a2d7-3444b12b2b06",
   "metadata": {},
   "source": [
    "### Verify if the installation works as expected:"
   ]
  },
  {
   "cell_type": "code",
   "execution_count": null,
   "id": "8a845b06-0a1d-4ab3-8f66-0c362905f158",
   "metadata": {},
   "outputs": [],
   "source": [
    "# Check the PCIe device status\n",
    "!lspci | grep acc"
   ]
  },
  {
   "cell_type": "code",
   "execution_count": null,
   "id": "c7bb583c-55f3-4e19-a185-68eb81b59678",
   "metadata": {},
   "outputs": [],
   "source": [
    "# Check NPU kernel driver status\n",
    "!lsmod | grep dxrt"
   ]
  },
  {
   "cell_type": "code",
   "execution_count": null,
   "id": "1bcfae85-6cbf-4ef0-b731-2233b15fcca3",
   "metadata": {},
   "outputs": [],
   "source": [
    "# Check NPU daemon status\n",
    "!systemctl status dxrt.service"
   ]
  },
  {
   "cell_type": "markdown",
   "id": "6549dfd3-3e52-45ca-b3a7-29a0c3a23134",
   "metadata": {},
   "source": [
    "### USeful tools provided by DX-RT"
   ]
  },
  {
   "cell_type": "code",
   "execution_count": null,
   "id": "fe8b44f6-4234-494a-af7b-2055ed07f3e6",
   "metadata": {},
   "outputs": [],
   "source": [
    "!ls dx-runtime/dx_rt/bin"
   ]
  },
  {
   "cell_type": "code",
   "execution_count": null,
   "id": "44dca267-7154-460b-855a-333c20ae82bd",
   "metadata": {},
   "outputs": [],
   "source": [
    "# Check dxtop tool\n",
    "!dxtop -h\n",
    "#!dxtop"
   ]
  },
  {
   "cell_type": "code",
   "execution_count": null,
   "id": "8d573a1d-1ad7-4258-89f9-145c82d6776b",
   "metadata": {},
   "outputs": [],
   "source": [
    "# Check dxrt-cli tool\n",
    "!dxrt-cli -h\n",
    "#!dxrt-cli -s"
   ]
  },
  {
   "cell_type": "code",
   "execution_count": null,
   "id": "493868e7-db38-4a5a-aa0b-0fc4a8161e9a",
   "metadata": {},
   "outputs": [],
   "source": [
    "# Check run_model tool\n",
    "!run_model -h\n",
    "#!cd dx-runtime/dx_app && bash setup.sh\n",
    "#!run_model -m workspace/res/models/models-2_0_0/MobileNetV2_2.dxnn"
   ]
  },
  {
   "cell_type": "code",
   "execution_count": null,
   "id": "f48ecfc5-981c-4d9b-8b67-e58a473a1687",
   "metadata": {},
   "outputs": [],
   "source": [
    "!parse_model -h\n",
    "#!parse_model -m workspace/res/models/models-2_0_0/MobileNetV2_2.dxnn"
   ]
  },
  {
   "cell_type": "code",
   "execution_count": null,
   "id": "f4101e22-6ca0-4b69-8850-8dec1e507494",
   "metadata": {},
   "outputs": [],
   "source": []
  }
 ],
 "metadata": {
  "kernelspec": {
   "display_name": "Python 3 (ipykernel)",
   "language": "python",
   "name": "python3"
  },
  "language_info": {
   "codemirror_mode": {
    "name": "ipython",
    "version": 3
   },
   "file_extension": ".py",
   "mimetype": "text/x-python",
   "name": "python",
   "nbconvert_exporter": "python",
   "pygments_lexer": "ipython3",
   "version": "3.12.3"
  }
 },
 "nbformat": 4,
 "nbformat_minor": 5
}
