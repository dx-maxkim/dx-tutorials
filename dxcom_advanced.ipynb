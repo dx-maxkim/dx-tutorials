{
  "cells": [
    {
      "cell_type": "markdown",
      "metadata": {},
      "source": "# 고급 튜토리얼: YOLOv8/세분화 + 커스텀 캘리브레이션 로더"
    },
    {
      "cell_type": "markdown",
      "metadata": {},
      "source": "# DEEPX DX-COM 튜토리얼 (Ubuntu 24.04 + JupyterLab)\n이 노트북은 DEEPX **DX-COM v2.0.0**을 사용하여 ONNX 모델을 **.dxnn**으로 컴파일하는 실습을 단계별로 안내합니다.\n**중요:** DX-COM 패키지(tar.gz)를 이미 이 작업 디렉터리에 내려받았다고 가정합니다.\n압축을 풀면 `./dx_com/` 폴더가 생기며, 그 안에 `dx_com` 실행파일과 샘플이 포함되어 있습니다.\n\n**학습 목표**\n- YOLOv8(탐지/세분화) ONNX 내보내기 및 컴파일\n- CSV 기반 **커스텀 로더**로 캘리브레이션 수행\n- 파이프라인 자동화 아이디어\n"
    },
    {
      "cell_type": "markdown",
      "metadata": {},
      "source": "## 1) 의존 패키지 설치 (Ultralytics, pandas 등)"
    },
    {
      "cell_type": "code",
      "execution_count": null,
      "metadata": {},
      "outputs": [],
      "source": "!sudo apt-get update -y && sudo apt-get install -y --no-install-recommends libgl1-mesa-glx libglib2.0-0\n!pip install --quiet torch torchvision ultralytics pandas Pillow onnx\n\n# DX-COM 패키지 해제 (이미 해제했다면 생략)\n!ls -1 *.tar.gz || true\n!tar -xzf dx_com_M1_v2.0.0.tar.gz || echo '이미 해제했거나 파일명을 맞춰주세요.'"
    },
    {
      "cell_type": "markdown",
      "metadata": {},
      "source": "## 2) YOLOv8 세분화 모델 ONNX로 내보내기"
    },
    {
      "cell_type": "code",
      "execution_count": null,
      "metadata": {},
      "outputs": [],
      "source": "from ultralytics import YOLO\n\n# Nano 세분화 모델 (용량/속도 유리)\nmodel = YOLO(\"yolov8n-seg.pt\")  # 없으면 자동 다운로드\nonnx_out = model.export(format=\"onnx\", opset=13)\nprint(\"✅ YOLOv8-seg ONNX:\", onnx_out)\n\n# 생성 파일 확인\n!ls -lh | grep yolov8n-seg || true"
    },
    {
      "cell_type": "markdown",
      "metadata": {},
      "source": "## 3) YOLOv8 JSON 구성 (640 입력, 간단 전처리)"
    },
    {
      "cell_type": "code",
      "execution_count": null,
      "metadata": {},
      "outputs": [],
      "source": "import json, os\n\ny8_cfg = {\n  \"inputs\": {\"images\": [1,3,640,640]},\n  \"calibration_num\": 5,\n  \"calibration_method\": \"ema\",\n  \"default_loader\": {\n    \"dataset_path\": \"./yolov5/data/images\",   # 예시 이미지 재활용\n    \"file_extensions\": [\"jpg\",\"jpeg\",\"png\"],\n    \"preprocessings\": [\n      {\"convertColor\": {\"form\": \"BGR2RGB\"}},\n      {\"resize\": {\"width\": 640, \"height\": 640, \"interpolation\": \"LINEAR\"}},\n      {\"div\": {\"x\": 255.0}}\n    ]\n  }\n}\nwith open(\"yolov8_seg.json\",\"w\") as f:\n    json.dump(y8_cfg,f,indent=2)\nprint(\"✅ JSON 저장: yolov8_seg.json\")\nos.system(\"sed -n '1,120p' yolov8_seg.json\")"
    },
    {
      "cell_type": "markdown",
      "metadata": {},
      "source": "## 4) DX-COM 컴파일 (YOLOv8 세분화)"
    },
    {
      "cell_type": "code",
      "execution_count": null,
      "metadata": {},
      "outputs": [],
      "source": "# 출력 폴더\n!mkdir -p dx_com/output/yolov8n_seg\n\n# onnx 파일 위치 자동 탐색 (현재 폴더 기준)\nimport os, glob\ncands = glob.glob(\"*.onnx\")\nonnx_file = None\nfor c in cands:\n    if \"yolov8n-seg\" in c:\n        onnx_file = c\n        break\nprint(\"찾은 ONNX:\", onnx_file)\n\nif onnx_file:\n    cmd = f\"./dx_com/dx_com -m {onnx_file} -c yolov8_seg.json -o dx_com/output/yolov8n_seg\"\n    print(\"실행:\", cmd)\n    exit_code = os.system(cmd)\n    print(\"DX-COM 종료코드:\", exit_code)\nelse:\n    print(\"yolov8n-seg.onnx 파일을 찾지 못했습니다. 상단 export 단계 확인 필요.\")\n\n!ls -lh dx_com/output/yolov8n_seg || true"
    },
    {
      "cell_type": "markdown",
      "metadata": {},
      "source": "---\n## 5) 커스텀 캘리브레이션 데이터 로더 (CSV → 텐서)\n여기서는 **MNIST** 테스트셋 100개를 CSV로 저장하고, 이를 읽는 `CustomDataset`을 작성해 DX-COM에 연결합니다.\n- CSV 포맷: `label,p0,p1,...,p783` (28x28=784 픽셀)\n- Dataset은 (1,28,28) 텐서를 반환\n"
    },
    {
      "cell_type": "code",
      "execution_count": null,
      "metadata": {},
      "outputs": [],
      "source": "# MNIST 100샘플을 CSV로 저장\nfrom torchvision import datasets\nimport numpy as np, os\n\nmnist = datasets.MNIST(root=\".\", train=False, download=True)\nimgs = mnist.data[:100].numpy()\nlabels = mnist.targets[:100].numpy()\n\nos.makedirs(\"custom_loader_example/data\", exist_ok=True)\ncsv_path = \"custom_loader_example/data/mnist_in_csv.csv\"\nwith open(csv_path,\"w\") as f:\n    for i in range(len(imgs)):\n        row = [int(labels[i])] + imgs[i].reshape(-1).tolist()\n        f.write(\",\".join(map(str,row)) + \"\\n\")\nprint(\"✅ CSV 저장:\", csv_path)"
    },
    {
      "cell_type": "code",
      "execution_count": null,
      "metadata": {},
      "outputs": [],
      "source": "# CustomDataset 구현 파일 저장 (dx_com/dataset_module.py)\n%%bash\ncat > dx_com/dataset_module.py << 'PYCODE'\nimport pandas as pd\nimport numpy as np\nfrom PIL import Image\nfrom torchvision import transforms\nfrom torch.utils.data import Dataset\n\nclass CustomDataset(Dataset):\n    def __init__(self, csv_path=\"./custom_loader_example/data/mnist_in_csv.csv\", height=28, width=28):\n        self.data = pd.read_csv(csv_path, header=None)\n        self.height = height\n        self.width = width\n        self.transform = transforms.ToTensor()  # 0~1 float 텐서\n\n    def __len__(self):\n        return len(self.data.index)\n\n    def __getitem__(self, index):\n        pix = np.array(self.data.iloc[index][1:], dtype=np.uint8).reshape(self.height, self.width)\n        img = Image.fromarray(pix, mode='L')\n        return self.transform(img)  # (1,28,28)\nPYCODE\n\n# 확인\n!sed -n '1,120p' dx_com/dataset_module.py"
    },
    {
      "cell_type": "markdown",
      "metadata": {},
      "source": "## 6) 간단한 MNIST ONNX 모델 생성 및 JSON(custom_loader) 작성"
    },
    {
      "cell_type": "code",
      "execution_count": null,
      "metadata": {},
      "outputs": [],
      "source": "import torch, torch.nn as nn, json\n\nclass SimpleMNIST(nn.Module):\n    def __init__(self):\n        super().__init__()\n        self.fc1 = nn.Linear(28*28, 128)\n        self.relu = nn.ReLU()\n        self.fc2 = nn.Linear(128, 10)\n    def forward(self, x):          # x: (B,1,28,28)\n        x = x.view(x.size(0), -1)  # (B,784)\n        x = self.relu(self.fc1(x))\n        return self.fc2(x)\n\nm = SimpleMNIST().eval()\ndummy = torch.randn(1,1,28,28)\nonnx_m = \"mnist_model.onnx\"\ntorch.onnx.export(m, dummy, onnx_m, input_names=[\"image\"], output_names=[\"logits\"], opset_version=13)\nprint(\"✅ ONNX 저장:\", onnx_m)\n\nmnist_json = {\n  \"inputs\": {\"image\": [1,1,28,28]},\n  \"calibration_num\": 100,\n  \"calibration_method\": \"ema\",\n  \"custom_loader\": {\"package\": \"dataset_module.CustomDataset\"}\n}\nwith open(\"mnist_model.json\",\"w\") as f:\n    json.dump(mnist_json,f,indent=2)\nprint(\"✅ JSON 저장: mnist_model.json\")\n!sed -n '1,120p' mnist_model.json"
    },
    {
      "cell_type": "markdown",
      "metadata": {},
      "source": "## 7) DX-COM 컴파일 (custom_loader 사용)"
    },
    {
      "cell_type": "code",
      "execution_count": null,
      "metadata": {},
      "outputs": [],
      "source": "# 출력 폴더\n!mkdir -p dx_com/output/mnist_custom\n\n# 컴파일 실행\n!./dx_com/dx_com -m mnist_model.onnx -c mnist_model.json -o dx_com/output/mnist_custom || echo '실패 시 dataset_module 위치/경로 확인'\n\n# 결과 확인\n!ls -lh dx_com/output/mnist_custom"
    },
    {
      "cell_type": "markdown",
      "metadata": {},
      "source": "---\n## 8) 파이프라인 자동화 아이디어\n- 함수로 묶어: (PyTorch→ONNX)→(JSON작성)→(DX-COM 실행)→(산출물 검증) 일괄 수행\n- 모델별 폴더 구조 표준화, 로그/산출물 버전 태깅\n- 캘리브레이션 세트 다양화 및 수량 자동 샘플링\n"
    }
  ],
  "metadata": {
    "kernelspec": {
      "display_name": "Python 3",
      "language": "python",
      "name": "python3"
    },
    "language_info": {
      "name": "python",
      "version": "3.x"
    }
  },
  "nbformat": 4,
  "nbformat_minor": 5
}