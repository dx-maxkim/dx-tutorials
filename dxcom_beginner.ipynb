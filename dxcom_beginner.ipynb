{
  "cells": [
    {
      "cell_type": "markdown",
      "metadata": {},
      "source": "# 초급 튜토리얼: MobileNet 이미지 분류 모델 컴파일"
    },
    {
      "cell_type": "markdown",
      "metadata": {},
      "source": "# DEEPX DX-COM 튜토리얼 (Ubuntu 24.04 + JupyterLab)\n이 노트북은 DEEPX **DX-COM v2.0.0**을 사용하여 ONNX 모델을 **.dxnn**으로 컴파일하는 실습을 단계별로 안내합니다.\n**중요:** DX-COM 패키지(tar.gz)를 이미 이 작업 디렉터리에 내려받았다고 가정합니다.\n압축을 풀면 `./dx_com/` 폴더가 생기며, 그 안에 `dx_com` 실행파일과 샘플이 포함되어 있습니다.\n\n**학습 목표**\n- PyTorch → ONNX 내보내기\n- JSON 구성 작성 (입력/전처리/캘리브레이션)\n- DX-COM으로 .dxnn 생성 및 확인\n"
    },
    {
      "cell_type": "markdown",
      "metadata": {},
      "source": "## 1) 의존 패키지 설치 및 DX-COM 패키지 해제"
    },
    {
      "cell_type": "code",
      "execution_count": null,
      "metadata": {},
      "outputs": [],
      "source": "# 시스템 라이브러리 (OpenCV 의존) 및 빌드 도구\n!sudo apt-get update -y && sudo apt-get install -y --no-install-recommends libgl1-mesa-glx libglib2.0-0 make\n\n# DX-COM 패키지(tar.gz)가 현재 폴더에 있다고 가정하고 해제\n# 예) 파일명이 dx_com_M1_v2.0.0.tar.gz 라면 아래 줄의 파일명을 맞춰주세요.\n!ls -1 *.tar.gz || true\n!tar -xzf dx_com_M1_v2.0.0.tar.gz || echo '압축 파일명이 다르면 위 명령을 수정하세요.'\n\n# 파이토치/토치비전 설치\n!pip install --quiet torch torchvision onnx"
    },
    {
      "cell_type": "markdown",
      "metadata": {},
      "source": "## 2) MobileNetV2 파이토치 모델을 ONNX로 내보내기"
    },
    {
      "cell_type": "code",
      "execution_count": null,
      "metadata": {},
      "outputs": [],
      "source": "import torch, torchvision\n\nmodel = torchvision.models.mobilenet_v2(weights=torchvision.models.MobileNet_V2_Weights.DEFAULT)\nmodel.eval()\ndummy = torch.randn(1, 3, 224, 224)\n\nonnx_path = \"MobilenetV2.onnx\"\ntorch.onnx.export(model, dummy, onnx_path, input_names=[\"input\"], output_names=[\"output\"], opset_version=13)\nprint(\"✅ ONNX 저장:\", onnx_path)"
    },
    {
      "cell_type": "markdown",
      "metadata": {},
      "source": "## 3) DX-COM용 JSON 구성 파일 생성 (전처리 + 캘리브레이션)"
    },
    {
      "cell_type": "code",
      "execution_count": null,
      "metadata": {},
      "outputs": [],
      "source": "import json, os\n\n# 캘리브레이션 이미지 폴더 예시: ./dx_com/calibration_dataset\ncfg = {\n  \"inputs\": {\"input\": [1,3,224,224]},\n  \"calibration_num\": 10,\n  \"calibration_method\": \"ema\",\n  \"default_loader\": {\n    \"dataset_path\": \"./dx_com/calibration_dataset\",\n    \"file_extensions\": [\"jpg\",\"jpeg\",\"png\"],\n    \"preprocessings\": [\n      {\"convertColor\": {\"form\": \"BGR2RGB\"}},\n      {\"resize\": {\"width\": 224, \"height\": 224}},\n      {\"div\": {\"x\": 255.0}},\n      {\"normalize\": {\"mean\": [0.485,0.456,0.406], \"std\": [0.229,0.224,0.225]}}\n    ]\n  }\n}\nwith open(\"MobilenetV2.json\",\"w\") as f:\n    json.dump(cfg, f, indent=2)\nprint(\"✅ JSON 저장: MobilenetV2.json\")\nos.system(\"sed -n '1,120p' MobilenetV2.json\")"
    },
    {
      "cell_type": "markdown",
      "metadata": {},
      "source": "## 4) DX-COM으로 컴파일 실행 (.dxnn 생성)"
    },
    {
      "cell_type": "code",
      "execution_count": null,
      "metadata": {},
      "outputs": [],
      "source": "# 출력 폴더 지정\n!mkdir -p dx_com/output/mobilenetv2\n\n# DX-COM 실행 (모델/구성/출력 지정)\n!./dx_com/dx_com -m MobilenetV2.onnx -c MobilenetV2.json -o dx_com/output/mobilenetv2 || echo 'DX-COM 실행 실패시 경로/파일명 확인'\n\n# 결과 확인\n!ls -lh dx_com/output/mobilenetv2"
    },
    {
      "cell_type": "markdown",
      "metadata": {},
      "source": "## 5) 트러블슈팅 체크리스트\n- `Permission denied`: `chmod +x dx_com/dx_com`\n- 입력명/shape 불일치: JSON `inputs`와 ONNX 입력명이 일치하는지 확인\n- 정확도 저하: `calibration_num` 증가, `calibration_method`(ema/minmax) 비교\n"
    }
  ],
  "metadata": {
    "kernelspec": {
      "display_name": "Python 3",
      "language": "python",
      "name": "python3"
    },
    "language_info": {
      "name": "python",
      "version": "3.x"
    }
  },
  "nbformat": 4,
  "nbformat_minor": 5
}