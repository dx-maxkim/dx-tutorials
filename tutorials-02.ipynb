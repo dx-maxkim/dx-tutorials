{
 "cells": [
  {
   "cell_type": "markdown",
   "id": "528ffbf3-26f1-4b0b-b49e-651397413a51",
   "metadata": {},
   "source": [
    "# DEEPX Tutorial 02 - Usage of DX_APP"
   ]
  },
  {
   "cell_type": "markdown",
   "id": "8d745a2c-590f-466c-8d99-dac51463d1a7",
   "metadata": {},
   "source": [
    "In this second tutorial, we will introduce DX_APP and learn how to utilize a converted DXNN model in an AI application. Additionally, we will cover how to use a USB webcam as an input source.\n",
    "\n",
    "This tutorial is based on dx-all-suite v2.0.0, released in September 2025."
   ]
  },
  {
   "cell_type": "markdown",
   "id": "6c593151-97c1-49c9-ac7b-d9149c7e58ba",
   "metadata": {},
   "source": [
    "## What is DX_APP?"
   ]
  },
  {
   "cell_type": "markdown",
   "id": "4a8fc6e5-dd5e-4014-a9bd-1aacde11dea1",
   "metadata": {},
   "source": [
    "**DX-APP** is a sample application that demonstrates how to run compiled models on actual DEEPX NPU\n",
    "using DX-RT. It includes ready-to-use code for common vision tasks such as object detection, face\n",
    "recognition, and image classification. DX-APP helps developers quickly set up the runtime environment\n",
    "and serves as a template for building and customizing their own AI applications.\n",
    "\n",
    "Let's see the file structure of DX_APP:"
   ]
  },
  {
   "cell_type": "code",
   "execution_count": null,
   "id": "eae84aa2-63e1-4852-a0f7-c421f4d5157b",
   "metadata": {},
   "outputs": [],
   "source": [
    "%cd dx-all-suite\n",
    "!tree -L 1 dx-runtime\n",
    "!tree -L 1 dx-runtime/dx_app"
   ]
  },
  {
   "cell_type": "code",
   "execution_count": null,
   "id": "5d158891-33d6-4b55-b9d6-6b005f6670da",
   "metadata": {},
   "outputs": [],
   "source": []
  }
 ],
 "metadata": {
  "kernelspec": {
   "display_name": "Python 3 (ipykernel)",
   "language": "python",
   "name": "python3"
  },
  "language_info": {
   "codemirror_mode": {
    "name": "ipython",
    "version": 3
   },
   "file_extension": ".py",
   "mimetype": "text/x-python",
   "name": "python",
   "nbconvert_exporter": "python",
   "pygments_lexer": "ipython3",
   "version": "3.12.3"
  }
 },
 "nbformat": 4,
 "nbformat_minor": 5
}
