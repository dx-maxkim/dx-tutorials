{
 "cells": [
  {
   "cell_type": "markdown",
   "id": "2dbf2d92-815e-4a2e-b468-26f71cd8dbe3",
   "metadata": {},
   "source": [
    "# DEEPX Tutorial 03 - AI Porject Workflow with DEEPX NPU"
   ]
  },
  {
   "cell_type": "markdown",
   "id": "74c3b426-7d6e-4844-bf75-737a94d1055f",
   "metadata": {},
   "source": [
    "This third tutorial demonstrates the full end-to-end workflow for AI model deployment on DEEPX hardware.\n",
    "\n",
    "We will train a forklift and worker detection model, utilize the DX-COM tool for conversion to the DXNN format, and execute the final AI application on a DEEPX NPU. This process will provide a comprehensive picture of the DEEPX NPU development pipeline. \n",
    "\n",
    "This tutorial is based on dx-all-suite v2.0.0, released in September 2025."
   ]
  },
  {
   "cell_type": "markdown",
   "id": "445ad29e-2955-4f2e-beac-2e2a34bbe81f",
   "metadata": {},
   "source": [
    "## Hands-on Project Overview"
   ]
  },
  {
   "cell_type": "markdown",
   "id": "e37c1d96-a612-4246-af9c-ebf798355fba",
   "metadata": {},
   "source": [
    "- **Detection classes**: Forklift, Worker\n",
    "- **Base AI model**: YOLOv7\n",
    "- **Dataset**: 1448 images about Forklift & Worker from [kaggle](https://www.kaggle.com/datasets/hakantaskiner/personforklift-dataset/data)\n",
    "- **Train**: Need NVIDIA GPU with more than 24G GRAM\n",
    "- **Inference NPU**: `DX-M1`\n",
    "- **AI application**: Modify and reuse the yolo demo of the DX-APP\n",
    "- **Expected output**:\n",
    "  ![img](assets/detection-goal.jpg)"
   ]
  },
  {
   "cell_type": "markdown",
   "id": "e8217ad7-fc19-421b-967d-98ff2dfbc762",
   "metadata": {},
   "source": [
    "## AI Workflow Overview"
   ]
  },
  {
   "cell_type": "markdown",
   "id": "955d81f9-0699-45e6-ba37-e27a481ad370",
   "metadata": {},
   "source": [
    "This diagram explains the common workflow of an AI project.\n",
    "\n",
    "We define the goal, collect and label data, and train the model.\n",
    "DX-Compiler helps make the model faster and lighter (INT8) for DX NPU.\n",
    "The final step is deploying the model to the DEEPX NPU using DX-App or DX-Stream.\n",
    "\n",
    "Each step builds toward real-world AI solutions, such as worker and forklift detection.\n",
    "![img](assets/workflow2.jpg)"
   ]
  },
  {
   "cell_type": "markdown",
   "id": "691e8f9d-0115-48d7-a02a-1b64c84c3b72",
   "metadata": {},
   "source": [
    "## 1. AI Workflow - Model Selection based on the use case"
   ]
  },
  {
   "cell_type": "markdown",
   "id": "afa66140-dbee-4bf2-a9ce-82f4316a8512",
   "metadata": {},
   "source": [
    "To start an AI project, we need to select an AI model that fits the use case.\n",
    "\n",
    "In this tutorial, our goal is to detect forklifts and workers.\n",
    "We will use YOLOv7, a well-known model for object detection.\n",
    "\n",
    "- Choose YOLOv7 to detect Forklift & Worker\n",
    "- For more details of YOLOv7: 👉 [link](https://docs.ultralytics.com/models/yolov7/)\n",
    "- How to use YOLOv7: 👉 [link](https://github.com/WongKinYiu/yolov7)"
   ]
  },
  {
   "cell_type": "markdown",
   "id": "0a81b7c5-ec05-412b-bc79-338f77d02b18",
   "metadata": {},
   "source": [
    "## 2. AI Workflow - Data Preparation & Annotation"
   ]
  },
  {
   "cell_type": "markdown",
   "id": "ac53d3cc-8142-4d59-ac44-fb7f2f836e74",
   "metadata": {},
   "source": [
    "Download the forklift-person labeled dataset from Kaggle:\n",
    " - Reference: [kaggle link](https://www.kaggle.com/datasets/hakantaskiner/personforklift-dataset)"
   ]
  },
  {
   "cell_type": "markdown",
   "id": "e071e952-82bb-4cf9-8c88-6a007b150d3b",
   "metadata": {},
   "source": [
    "## 3. AI Workflow - Train"
   ]
  },
  {
   "cell_type": "markdown",
   "id": "cbd31d3c-e849-49d3-b7f4-10efefca0861",
   "metadata": {},
   "source": [
    "To train the model efficiently, you should use a GPU that has 24GB or more graphic memory.\n",
    "\n",
    " - How to train YOLOv7: 👉 [Link](https://colab.research.google.com/drive/1dAdjJuhXqFM_Qcd0QqAn7_AGx7abA5aX?usp=sharing)"
   ]
  },
  {
   "cell_type": "markdown",
   "id": "f7dd943a-796f-4aec-8341-a524c71c4e2f",
   "metadata": {},
   "source": [
    "## 4. AI Workflow - Optimization with DX-Compiler"
   ]
  },
  {
   "cell_type": "markdown",
   "id": "df78f67a-62bb-4b05-8260-3a0820973a08",
   "metadata": {},
   "source": [
    "How to create my custom YOLOv7 model:\n",
    "- [Link](https://colab.research.google.com/drive/1dAdjJuhXqFM_Qcd0QqAn7_AGx7abA5aX?usp=sharing)\n",
    "- [DXNN](https://drive.google.com/file/d/1e9PEJeS2ZM16Y-5U2HrG9o5jzdvEaIh0/view?usp=sharing)\n",
    "- [ONNX](https://drive.google.com/file/d/1ZlRppHtz26X1ID8BUHuFMH6EVfPzDOsh/view?usp=sharing)"
   ]
  },
  {
   "cell_type": "code",
   "execution_count": null,
   "id": "56c51947-4547-42de-82c7-f6996195c61f",
   "metadata": {},
   "outputs": [],
   "source": []
  },
  {
   "cell_type": "code",
   "execution_count": null,
   "id": "772f2d4e-9195-4b10-9498-476cb9bd6185",
   "metadata": {},
   "outputs": [],
   "source": []
  }
 ],
 "metadata": {
  "kernelspec": {
   "display_name": "Python 3 (ipykernel)",
   "language": "python",
   "name": "python3"
  },
  "language_info": {
   "codemirror_mode": {
    "name": "ipython",
    "version": 3
   },
   "file_extension": ".py",
   "mimetype": "text/x-python",
   "name": "python",
   "nbconvert_exporter": "python",
   "pygments_lexer": "ipython3",
   "version": "3.10.12"
  }
 },
 "nbformat": 4,
 "nbformat_minor": 5
}
