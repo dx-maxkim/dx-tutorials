{
 "cells": [
  {
   "cell_type": "markdown",
   "id": "6ac2ecda",
   "metadata": {},
   "source": [
    "\n",
    "# USB Webcam Tutorial (V4L2 + OpenCV, Linux/Ubuntu)\n",
    "\n",
    "This hands-on notebook shows how to:\n",
    "- Discover USB webcams and inspect capabilities with **V4L2** (`v4l2-ctl`).\n",
    "- Configure formats (e.g., **MJPEG** or **YUYV**), resolution, FPS, and camera controls (exposure, focus, WB).\n",
    "- Capture images and video with **OpenCV** (both windowed & headless modes).\n",
    "- Benchmark FPS, handle MJPEG/YUYV, and record to MP4.\n",
    "\n",
    "> **Tested environment**: Ubuntu 22.04/24.04, Python 3.10+, OpenCV 4.x, a UVC-compatible USB webcam.\n",
    ">\n",
    "> **Prerequisites** (run once):\n",
    "> ```bash\n",
    "> sudo apt update\n",
    "> sudo apt install -y v4l-utils\n",
    "> pip install opencv-python\n",
    "> ```\n"
   ]
  },
  {
   "cell_type": "markdown",
   "id": "4a389980",
   "metadata": {
    "jp-MarkdownHeadingCollapsed": true
   },
   "source": [
    "## 0. Environment Check"
   ]
  },
  {
   "cell_type": "code",
   "execution_count": null,
   "id": "4ec6527e",
   "metadata": {},
   "outputs": [],
   "source": [
    "\n",
    "import sys, platform, subprocess, shutil, os, time, re, json, glob, pathlib\n",
    "import cv2\n",
    "from IPython.display import display, Markdown, clear_output\n",
    "\n",
    "print(\"Python:\", sys.version)\n",
    "print(\"Platform:\", platform.platform())\n",
    "print(\"OpenCV:\", cv2.__version__)\n",
    "\n",
    "# Check v4l2-ctl availability\n",
    "v4l2_path = shutil.which(\"v4l2-ctl\")\n",
    "print(\"v4l2-ctl:\", v4l2_path if v4l2_path else \"NOT FOUND - please `sudo apt install v4l-utils`\")\n"
   ]
  },
  {
   "cell_type": "markdown",
   "id": "aa464ea2",
   "metadata": {
    "jp-MarkdownHeadingCollapsed": true
   },
   "source": [
    "## 1. Discover Video Devices"
   ]
  },
  {
   "cell_type": "code",
   "execution_count": null,
   "id": "473c92d0",
   "metadata": {},
   "outputs": [],
   "source": [
    "\n",
    "# List /dev/video* nodes\n",
    "video_nodes = sorted(glob.glob(\"/dev/video*\"))\n",
    "print(\"Detected video nodes:\", video_nodes)\n",
    "\n",
    "# v4l2-ctl --list-devices gives a nice mapping (device -> /dev/videoX)\n",
    "if v4l2_path:\n",
    "    print(\"\\n== v4l2-ctl --list-devices ==\")\n",
    "    print(subprocess.run([\"v4l2-ctl\", \"--list-devices\"], capture_output=True, text=True).stdout)\n",
    "else:\n",
    "    print(\"v4l2-ctl not available; skipping device listing via v4l2-ctl.\")\n"
   ]
  },
  {
   "cell_type": "markdown",
   "id": "2b5f9632",
   "metadata": {
    "jp-MarkdownHeadingCollapsed": true
   },
   "source": [
    "\n",
    "## 2. Choose Your Webcam Device\n",
    "\n",
    "Set `DEVICE` to the `/dev/videoX` node of your webcam. If you're unsure, pick the first one that shows UVC capabilities in the previous step.\n"
   ]
  },
  {
   "cell_type": "code",
   "execution_count": null,
   "id": "3df86320",
   "metadata": {},
   "outputs": [],
   "source": [
    "\n",
    "# Change this to your webcam node if needed\n",
    "DEVICE = \"/dev/video0\"\n",
    "DEVICE\n"
   ]
  },
  {
   "cell_type": "markdown",
   "id": "a0ddaf37",
   "metadata": {
    "jp-MarkdownHeadingCollapsed": true
   },
   "source": [
    "## 3. Inspect Capabilities, Formats, and Frame Sizes"
   ]
  },
  {
   "cell_type": "code",
   "execution_count": null,
   "id": "04b6be2d",
   "metadata": {},
   "outputs": [],
   "source": [
    "\n",
    "if not os.path.exists(DEVICE):\n",
    "    raise FileNotFoundError(f\"{DEVICE} not found. Update DEVICE to a valid /dev/videoX.\")\n",
    "\n",
    "if v4l2_path:\n",
    "    print(\"== v4l2-ctl --device --all ==\")\n",
    "    print(subprocess.run([\"v4l2-ctl\", f\"--device={DEVICE}\", \"--all\"], capture_output=True, text=True).stdout)\n",
    "\n",
    "    print(\"\\n== v4l2-ctl --device --list-formats-ext ==\")\n",
    "    print(subprocess.run([\"v4l2-ctl\", f\"--device={DEVICE}\", \"--list-formats-ext\"], capture_output=True, text=True).stdout)\n",
    "else:\n",
    "    print(\"v4l2-ctl not available; cannot show capabilities/formats.\")\n"
   ]
  },
  {
   "cell_type": "markdown",
   "id": "0fddc116",
   "metadata": {
    "jp-MarkdownHeadingCollapsed": true
   },
   "source": [
    "\n",
    "## 4. (Optional) Configure Format & FPS via V4L2\n",
    "\n",
    "Two common pixel formats:\n",
    "- **MJPG** (Motion JPEG): lower USB bandwidth, lighter CPU decode than raw → often best for 1080p+ over USB.\n",
    "- **YUYV** (YUYV 4:2:2): raw frames, higher bandwidth but low latency and no compression artifacts.\n",
    "\n",
    "> We'll try setting **1920x1080 @ 30fps** with **MJPG**. Adjust if unsupported by your camera.\n"
   ]
  },
  {
   "cell_type": "code",
   "execution_count": null,
   "id": "bfff1827",
   "metadata": {},
   "outputs": [],
   "source": [
    "\n",
    "PREFERRED_WIDTH, PREFERRED_HEIGHT, PREFERRED_FPS = 1920, 1080, 30\n",
    "PREFERRED_FOURCC = \"MJPG\"  # or \"YUYV\"\n",
    "\n",
    "if v4l2_path:\n",
    "    print(\"Setting format via v4l2-ctl ...\")\n",
    "    cmds = [\n",
    "        [\"v4l2-ctl\", f\"--device={DEVICE}\", f\"--set-fmt-video=width={PREFERRED_WIDTH},height={PREFERRED_HEIGHT},pixelformat={PREFERRED_FOURCC}\"],\n",
    "        [\"v4l2-ctl\", f\"--device={DEVICE}\", f\"--set-parm={PREFERRED_FPS}\"]\n",
    "    ]\n",
    "    for c in cmds:\n",
    "        res = subprocess.run(c, capture_output=True, text=True)\n",
    "        print(\"$\", \" \".join(c))\n",
    "        if res.stderr.strip():\n",
    "            print(\"stderr:\", res.stderr.strip())\n",
    "        if res.stdout.strip():\n",
    "            print(res.stdout.strip())\n",
    "else:\n",
    "    print(\"v4l2-ctl not available; skip format set.\")\n"
   ]
  },
  {
   "cell_type": "markdown",
   "id": "d352d5a6",
   "metadata": {
    "jp-MarkdownHeadingCollapsed": true
   },
   "source": [
    "\n",
    "## 5. OpenCV Capture Basics\n",
    "\n",
    "We'll show two patterns:\n",
    "\n",
    "- **Headless (Notebook)**: display a few frames inline (no GUI windows).\n",
    "- **Windowed (Desktop)**: show a live window. Use this on a local desktop with a display server.\n"
   ]
  },
  {
   "cell_type": "code",
   "execution_count": null,
   "id": "ce56dde2",
   "metadata": {},
   "outputs": [],
   "source": [
    "\n",
    "def open_capture(dev=\"/dev/video0\", width=1280, height=720, fps=30, fourcc=\"MJPG\"):\n",
    "    cap = cv2.VideoCapture(dev, cv2.CAP_V4L2)  # prefer V4L2 backend on Linux\n",
    "    if fourcc:\n",
    "        # set FOURCC before size/fps for reliability\n",
    "        cap.set(cv2.CAP_PROP_FOURCC, cv2.VideoWriter_fourcc(*fourcc))\n",
    "    cap.set(cv2.CAP_PROP_FRAME_WIDTH, width)\n",
    "    cap.set(cv2.CAP_PROP_FRAME_HEIGHT, height)\n",
    "    cap.set(cv2.CAP_PROP_FPS, fps)\n",
    "    # Some drivers report after opening; query back\n",
    "    actual = {\n",
    "        \"fourcc\": int(cap.get(cv2.CAP_PROP_FOURCC)),\n",
    "        \"width\": int(cap.get(cv2.CAP_PROP_FRAME_WIDTH)),\n",
    "        \"height\": int(cap.get(cv2.CAP_PROP_FRAME_HEIGHT)),\n",
    "        \"fps\": cap.get(cv2.CAP_PROP_FPS),\n",
    "        \"backend\": int(cap.get(cv2.CAP_PROP_BACKEND))\n",
    "    }\n",
    "    return cap, actual\n",
    "\n",
    "cap, actual = open_capture(DEVICE, PREFERRED_WIDTH, PREFERRED_HEIGHT, PREFERRED_FPS, PREFERRED_FOURCC)\n",
    "print(\"Actual settings:\", actual)\n",
    "if not cap.isOpened():\n",
    "    raise RuntimeError(\"Failed to open the camera. Check permissions and device node.\")\n"
   ]
  },
  {
   "cell_type": "markdown",
   "id": "e8a78c78",
   "metadata": {
    "jp-MarkdownHeadingCollapsed": true
   },
   "source": [
    "### 5.1 Headless Preview (Inline Frames)"
   ]
  },
  {
   "cell_type": "code",
   "execution_count": null,
   "id": "797b2470",
   "metadata": {},
   "outputs": [],
   "source": [
    "\n",
    "import numpy as np\n",
    "from IPython.display import display\n",
    "import ipywidgets as widgets\n",
    "\n",
    "n_frames = 5\n",
    "imgs = []\n",
    "for i in range(n_frames):\n",
    "    ok, frame = cap.read()\n",
    "    if not ok:\n",
    "        print(\"Failed to read frame\")\n",
    "        break\n",
    "    # Optional: convert color if needed (OpenCV default is BGR)\n",
    "    # display inline\n",
    "    _, buf = cv2.imencode(\".jpg\", frame)\n",
    "    display(Markdown(f\"**Frame {i+1}**\"))\n",
    "    display(widgets.Image(value=buf.tobytes(), format='jpg', width=512))\n",
    "\n",
    "# Keep cap open for subsequent cells\n"
   ]
  },
  {
   "cell_type": "markdown",
   "id": "b0989df9",
   "metadata": {
    "jp-MarkdownHeadingCollapsed": true
   },
   "source": [
    "### 5.2 Save a Snapshot"
   ]
  },
  {
   "cell_type": "code",
   "execution_count": null,
   "id": "726b28be",
   "metadata": {},
   "outputs": [],
   "source": [
    "\n",
    "out_path = \"snapshot.jpg\"\n",
    "ok, frame = cap.read()\n",
    "if ok:\n",
    "    cv2.imwrite(out_path, frame)\n",
    "    print(\"Saved:\", out_path, os.path.abspath(out_path))\n",
    "else:\n",
    "    print(\"Failed to grab a frame for snapshot.\")\n"
   ]
  },
  {
   "cell_type": "markdown",
   "id": "78e9a720",
   "metadata": {
    "jp-MarkdownHeadingCollapsed": true
   },
   "source": [
    "\n",
    "### 5.3 (Optional) Windowed Live View\n",
    "\n",
    "> Run this only on a local desktop with a display (won't work on headless servers). Press **q** to exit.\n"
   ]
  },
  {
   "cell_type": "code",
   "execution_count": null,
   "id": "3cde1610",
   "metadata": {},
   "outputs": [],
   "source": [
    "\n",
    "# Uncomment to use in a non-notebook Python session with a display\n",
    "import cv2, time\n",
    "win = \"Live\"\n",
    "cv2.namedWindow(win, cv2.WINDOW_NORMAL)\n",
    "while True:\n",
    "    ok, frame = cap.read()\n",
    "    if not ok:\n",
    "        break\n",
    "    cv2.imshow(win, frame)\n",
    "    if cv2.waitKey(1) & 0xFF == ord('q'):\n",
    "        break\n",
    "cap.release()\n",
    "cv2.destroyAllWindows()\n"
   ]
  },
  {
   "cell_type": "markdown",
   "id": "a4211b26",
   "metadata": {
    "jp-MarkdownHeadingCollapsed": true
   },
   "source": [
    "## 6. Handling YUYV (Raw 4:2:2)"
   ]
  },
  {
   "cell_type": "code",
   "execution_count": null,
   "id": "fc75790a",
   "metadata": {},
   "outputs": [],
   "source": [
    "\n",
    "# If MJPG is unavailable or you prefer raw frames, try YUYV.\n",
    "# We'll reopen with YUYV to demonstrate conversion.\n",
    "\n",
    "cap.release()\n",
    "cap, actual = open_capture(DEVICE, 640, 480, 30, \"YUYV\")\n",
    "print(\"Reopened with YUYV. Actual:\", actual)\n",
    "\n",
    "ok, frame = cap.read()\n",
    "if not ok:\n",
    "    print(\"Failed to read YUYV frame; your camera/driver may not support raw at this size/fps.\")\n",
    "else:\n",
    "    # Some backends already convert to BGR; if you get a single channel or strange shape, use cvtColor:\n",
    "    # Example: yuyv_bgr = cv2.cvtColor(frame, cv2.COLOR_YUV2BGR_YUY2)\n",
    "    # For demo, we will just save whatever we get:\n",
    "    cv2.imwrite(\"yuyv_sample.jpg\", frame)\n",
    "    print(\"Saved YUYV sample as decoded by backend:\", os.path.abspath(\"yuyv_sample.jpg\"))\n"
   ]
  },
  {
   "cell_type": "markdown",
   "id": "140252f6",
   "metadata": {
    "jp-MarkdownHeadingCollapsed": true
   },
   "source": [
    "## 7. Record to MP4 (H.264 or MPEG-4 Part 2)"
   ]
  },
  {
   "cell_type": "code",
   "execution_count": null,
   "id": "244d2093",
   "metadata": {},
   "outputs": [],
   "source": [
    "\n",
    "# We'll use 'mp4v' to guarantee broad compatibility. For hardware encoders, prefer GStreamer or FFmpeg pipelines.\n",
    "cap.release()\n",
    "cap, actual = open_capture(DEVICE, 1280, 720, 30, \"MJPG\")\n",
    "print(\"Recording with:\", actual)\n",
    "\n",
    "fourcc = cv2.VideoWriter_fourcc(*\"mp4v\")  # alternatively \"avc1\" if supported\n",
    "out = cv2.VideoWriter(\"capture.mp4\", fourcc, 30, (int(cap.get(cv2.CAP_PROP_FRAME_WIDTH)), int(cap.get(cv2.CAP_PROP_FRAME_HEIGHT))))\n",
    "\n",
    "frames = 150  # ~5 seconds @30fps\n",
    "grabbed = 0\n",
    "for _ in range(frames):\n",
    "    ok, frame = cap.read()\n",
    "    if not ok:\n",
    "        break\n",
    "    out.write(frame)\n",
    "    grabbed += 1\n",
    "\n",
    "out.release()\n",
    "cap.release()\n",
    "print(f\"Wrote {grabbed} frames to\", os.path.abspath(\"capture.mp4\"))\n"
   ]
  },
  {
   "cell_type": "markdown",
   "id": "132d3890",
   "metadata": {
    "jp-MarkdownHeadingCollapsed": true
   },
   "source": [
    "## 8. Camera Controls (Exposure, Focus, White Balance, etc.)"
   ]
  },
  {
   "cell_type": "code",
   "execution_count": null,
   "id": "8b8b52c8",
   "metadata": {},
   "outputs": [],
   "source": [
    "\n",
    "if v4l2_path:\n",
    "    print(\"== List all user controls ==\")\n",
    "    print(subprocess.run([\"v4l2-ctl\", f\"--device={DEVICE}\", \"--list-ctrls-menus\"], capture_output=True, text=True).stdout)\n",
    "\n",
    "    # Examples (uncomment what you need):\n",
    "    # Turn off auto exposure and set manual exposure time:\n",
    "    # subprocess.run([\"v4l2-ctl\", f\"--device={DEVICE}\", \"--set-ctrl=exposure_auto=1\"], check=False)           # 1=Manual Mode for many UVC cams\n",
    "    # subprocess.run([\"v4l2-ctl\", f\"--device={DEVICE}\", \"--set-ctrl=exposure_absolute=200\"], check=False)     # value depends on camera\n",
    "\n",
    "    # Disable auto white balance and set temperature:\n",
    "    # subprocess.run([\"v4l2-ctl\", f\"--device={DEVICE}\", \"--set-ctrl=white_balance_temperature_auto=0\"], check=False)\n",
    "    # subprocess.run([\"v4l2-ctl\", f\"--device={DEVICE}\", \"--set-ctrl=white_balance_temperature=5000\"], check=False)\n",
    "\n",
    "    # Disable auto focus (if supported) and set absolute focus:\n",
    "    # subprocess.run([\"v4l2-ctl\", f\"--device={DEVICE}\", \"--set-ctrl=focus_auto=0\"], check=False)\n",
    "    # subprocess.run([\"v4l2-ctl\", f\"--device={DEVICE}\", \"--set-ctrl=focus_absolute=10\"], check=False)\n",
    "\n",
    "    # Brightness/Contrast/Gain (names vary by camera):\n",
    "    # subprocess.run([\"v4l2-ctl\", f\"--device={DEVICE}\", \"--set-ctrl=brightness=128\"], check=False)\n",
    "    # subprocess.run([\"v4l2-ctl\", f\"--device={DEVICE}\", \"--set-ctrl=contrast=32\"], check=False)\n",
    "    # subprocess.run([\"v4l2-ctl\", f\"--device={DEVICE}\", \"--set-ctrl=gain=0\"], check=False)\n",
    "else:\n",
    "    print(\"v4l2-ctl not available; cannot show/set controls.\")\n"
   ]
  },
  {
   "cell_type": "markdown",
   "id": "a2a49348",
   "metadata": {
    "jp-MarkdownHeadingCollapsed": true
   },
   "source": [
    "## 9. Simple FPS Benchmark"
   ]
  },
  {
   "cell_type": "code",
   "execution_count": null,
   "id": "008bc5a8",
   "metadata": {},
   "outputs": [],
   "source": [
    "\n",
    "import time\n",
    "\n",
    "def benchmark_fps(dev, width=1280, height=720, fps=30, fourcc=\"MJPG\", seconds=5):\n",
    "    cap, actual = open_capture(dev, width, height, fps, fourcc)\n",
    "    if not cap.isOpened():\n",
    "        raise RuntimeError(\"Cannot open device for benchmark.\")\n",
    "    count = 0\n",
    "    t0 = time.time()\n",
    "    while time.time() - t0 < seconds:\n",
    "        ok, frame = cap.read()\n",
    "        if not ok:\n",
    "            break\n",
    "        count += 1\n",
    "    cap.release()\n",
    "    elapsed = time.time() - t0\n",
    "    return count / elapsed if elapsed > 0 else 0, actual\n",
    "\n",
    "measured_fps, actual = benchmark_fps(DEVICE, 1280, 720, 30, \"MJPG\", 5)\n",
    "print(f\"Measured ~{measured_fps:.1f} FPS with settings:\", actual)\n"
   ]
  },
  {
   "cell_type": "markdown",
   "id": "e535e1bb",
   "metadata": {
    "jp-MarkdownHeadingCollapsed": true
   },
   "source": [
    "\n",
    "## 10. Best Practices & Troubleshooting\n",
    "\n",
    "**Best Practices**\n",
    "1. Prefer **MJPG** for high resolutions over USB (reduced bandwidth). Use **YUYV** if you need raw frames or ultra-low latency.\n",
    "2. Set the **FOURCC before width/height/fps** in OpenCV for more reliable negotiation.\n",
    "3. Lock **auto-exposure/auto-WB/auto-focus** for consistent results (use `v4l2-ctl --set-ctrl=...`).\n",
    "4. Stick to **standard modes** (e.g., 640×480, 1280×720, 1920×1080 @ 30 FPS) that your webcam lists via `--list-formats-ext`.\n",
    "5. For headless servers, disable OpenCV windows and use **inline display** (JPEG) or just save to files.\n",
    "6. When recording MP4, use `mp4v` for compatibility. For **hardware encoding**, consider FFmpeg/GStreamer pipelines.\n",
    "\n",
    "**Troubleshooting**\n",
    "- **Device not found**: Check `ls -l /dev/video*`, USB permissions, and group membership (e.g., add your user to `video` group).\n",
    "- **Cannot set FPS/resolution**: The camera may not support that combo; check `--list-formats-ext` and pick a supported tuple.\n",
    "- **Color looks wrong**: If using YUYV, ensure proper `cvtColor` (e.g., `COLOR_YUV2BGR_YUY2`). Some backends auto-convert already.\n",
    "- **Low FPS**: Try MJPG; avoid USB hubs; use a USB 3.0 port; reduce resolution; close other apps using the camera.\n",
    "- **OpenCV backend issues**: Force `cv2.CAP_V4L2` on Linux; verify OpenCV build includes V4L2 backend.\n",
    "- **Permission denied**: Run `sudo udevadm control --reload-rules && sudo udevadm trigger` after adjusting udev rules, or run the notebook as a user in the `video` group.\n"
   ]
  },
  {
   "cell_type": "markdown",
   "id": "a056659b",
   "metadata": {},
   "source": [
    "\n",
    "## 11. Appendix: Minimal One-Shot Examples\n",
    "\n",
    "**Capture one JPEG (MJPG path)**\n",
    "```python\n",
    "import cv2\n",
    "cap = cv2.VideoCapture(\"/dev/video0\", cv2.CAP_V4L2)\n",
    "cap.set(cv2.CAP_PROP_FOURCC, cv2.VideoWriter_fourcc(*\"MJPG\"))\n",
    "cap.set(cv2.CAP_PROP_FRAME_WIDTH, 1920)\n",
    "cap.set(cv2.CAP_PROP_FRAME_HEIGHT, 1080)\n",
    "cap.set(cv2.CAP_PROP_FPS, 30)\n",
    "ok, frame = cap.read()\n",
    "if ok: cv2.imwrite(\"one_shot.jpg\", frame)\n",
    "cap.release()\n",
    "```\n",
    "\n",
    "**Use YUYV and convert**\n",
    "```python\n",
    "import cv2\n",
    "cap = cv2.VideoCapture(\"/dev/video0\", cv2.CAP_V4L2)\n",
    "cap.set(cv2.CAP_PROP_FOURCC, cv2.VideoWriter_fourcc(*\"YUYV\"))\n",
    "cap.set(cv2.CAP_PROP_FRAME_WIDTH, 640)\n",
    "cap.set(cv2.CAP_PROP_FRAME_HEIGHT, 480)\n",
    "cap.set(cv2.CAP_PROP_FPS, 30)\n",
    "ok, yuyv = cap.read()\n",
    "if ok:\n",
    "    # Some backends already convert; if needed:\n",
    "    bgr = cv2.cvtColor(yuyv, cv2.COLOR_YUV2BGR_YUY2)\n",
    "    cv2.imwrite(\"yuyv_one_shot.jpg\", bgr)\n",
    "cap.release()\n",
    "```\n",
    "\n",
    "**Record 10 seconds to MP4**\n",
    "```python\n",
    "import cv2, time\n",
    "cap = cv2.VideoCapture(\"/dev/video0\", cv2.CAP_V4L2)\n",
    "cap.set(cv2.CAP_PROP_FOURCC, cv2.VideoWriter_fourcc(*\"MJPG\"))\n",
    "cap.set(cv2.CAP_PROP_FRAME_WIDTH, 1280)\n",
    "cap.set(cv2.CAP_PROP_FRAME_HEIGHT, 720)\n",
    "cap.set(cv2.CAP_PROP_FPS, 30)\n",
    "fourcc = cv2.VideoWriter_fourcc(*\"mp4v\")\n",
    "out = cv2.VideoWriter(\"out.mp4\", fourcc, 30, (1280, 720))\n",
    "t0 = time.time()\n",
    "while time.time() - t0 < 10:\n",
    "    ok, frame = cap.read()\n",
    "    if not ok: break\n",
    "    out.write(frame)\n",
    "out.release(); cap.release()\n",
    "```\n"
   ]
  },
  {
   "cell_type": "code",
   "execution_count": null,
   "id": "874ebb5a-375a-4f7f-8b1b-35ac9c2ba700",
   "metadata": {},
   "outputs": [],
   "source": []
  }
 ],
 "metadata": {
  "kernelspec": {
   "display_name": "Python 3 (ipykernel)",
   "language": "python",
   "name": "python3"
  },
  "language_info": {
   "codemirror_mode": {
    "name": "ipython",
    "version": 3
   },
   "file_extension": ".py",
   "mimetype": "text/x-python",
   "name": "python",
   "nbconvert_exporter": "python",
   "pygments_lexer": "ipython3",
   "version": "3.10.12"
  }
 },
 "nbformat": 4,
 "nbformat_minor": 5
}
