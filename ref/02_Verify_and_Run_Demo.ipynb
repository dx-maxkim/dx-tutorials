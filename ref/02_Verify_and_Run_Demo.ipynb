{
 "cells": [
  {
   "cell_type": "markdown",
   "id": "8e16b1de",
   "metadata": {},
   "source": [
    "# DX-STREAM Tutorial 2 — Verify Installation & Run Demo\n",
    "_Last updated: 2025-10-19 22:39_\n",
    "\n",
    "### Goals\n",
    "- Verify NPU driver/DX-RT and DX-STREAM installation\n",
    "- Download sample assets and run `run_demo.sh`\n",
    "- Learn quick troubleshooting tips"
   ]
  },
  {
   "cell_type": "markdown",
   "id": "33dc8e58",
   "metadata": {},
   "source": [
    "## 1) Environment Checks\n"
   ]
  },
  {
   "cell_type": "code",
   "execution_count": null,
   "id": "cea78294",
   "metadata": {},
   "outputs": [],
   "source": [
    "# Check NPU device(s)\n",
    "!ls /dev | grep -E 'dx|deepx' || echo 'No obvious NPU device node found.'"
   ]
  },
  {
   "cell_type": "code",
   "execution_count": null,
   "id": "c6176e54",
   "metadata": {},
   "outputs": [],
   "source": [
    "# Check DX-RT runtime info (if installed)\n",
    "!which dxrt_info >/dev/null 2>&1 && dxrt_info || echo 'dxrt_info not found. Ensure DX-RT 3.0.0+ is installed.'"
   ]
  },
  {
   "cell_type": "code",
   "execution_count": null,
   "id": "35a73d7e",
   "metadata": {},
   "outputs": [],
   "source": [
    "# Check GStreamer plugin registration\n",
    "!gst-inspect-1.0 dxstream || echo 'dxstream plugin not found.'"
   ]
  },
  {
   "cell_type": "markdown",
   "id": "a2346b85",
   "metadata": {},
   "source": [
    "## 2) Get DX-STREAM Sources (optional)\n",
    "> If you already have the package, skip cloning. For a pinned revision:\n"
   ]
  },
  {
   "cell_type": "code",
   "execution_count": null,
   "id": "3fbb4e2f",
   "metadata": {},
   "outputs": [],
   "source": [
    "# If you have internet access and git configured, uncomment:\n",
    "# !git clone https://github.com/DEEPX-AI/dx_stream.git\n",
    "# %cd dx_stream\n",
    "# !git checkout b16bdb456ff433e36533be40a5aeeaa98db94f85\n",
    "# %cd -\n"
   ]
  },
  {
   "cell_type": "markdown",
   "id": "02003b6a",
   "metadata": {},
   "source": [
    "## 3) Install & Build (if using source)\n",
    "Run the provided scripts:\n"
   ]
  },
  {
   "cell_type": "code",
   "execution_count": null,
   "id": "9d2148b2",
   "metadata": {},
   "outputs": [],
   "source": [
    "# %cd dx_stream\n",
    "# !./install.sh\n",
    "# !./build.sh\n",
    "# %cd -\n"
   ]
  },
  {
   "cell_type": "markdown",
   "id": "d924131b",
   "metadata": {},
   "source": [
    "## 4) Prepare Demo Assets\n",
    "Download sample videos/models:\n"
   ]
  },
  {
   "cell_type": "code",
   "execution_count": null,
   "id": "50cb36cc",
   "metadata": {},
   "outputs": [],
   "source": [
    "# %cd dx_stream\n",
    "# !./setup.sh\n",
    "# %cd -\n"
   ]
  },
  {
   "cell_type": "markdown",
   "id": "5597f1cd",
   "metadata": {},
   "source": [
    "## 5) Run Demo\n",
    "- Interactive menu appears (defaults to **0: Object Detection** after 10s)\n",
    "- To run **non-interactively** for option 0:\n"
   ]
  },
  {
   "cell_type": "code",
   "execution_count": null,
   "id": "0e3e260b",
   "metadata": {},
   "outputs": [],
   "source": [
    "# %cd dx_stream\n",
    "# Option A: interactive (will open a video window)\n",
    "# !./run_demo.sh\n",
    "\n",
    "# Option B: non-interactive, choose 0 explicitly\n",
    "# !printf \"0\\n\" | ./run_demo.sh\n",
    "\n",
    "# Option C: if your script supports an env var (example); otherwise stick to A/B\n",
    "# !DEMO_IDX=0 ./run_demo.sh || true\n",
    "# %cd -\n"
   ]
  },
  {
   "cell_type": "markdown",
   "id": "0397832c",
   "metadata": {},
   "source": [
    "## 6) Typical Troubleshooting\n",
    "### No window / rendering errors\n",
    "- Replace sink with: `... ! videoconvert ! autovideosink`  \n",
    "- Remote? Use X11 forwarding or a VNC desktop.\n",
    "\n",
    "### Stutter / drops\n",
    "- Add `queue` between elements.\n",
    "- Try `... ! autovideosink sync=false`.\n",
    "\n",
    "### Kafka/MQTT broker issues\n",
    "- Verify broker is running and reachable (ports, SSL, credentials)."
   ]
  }
 ],
 "metadata": {
  "kernelspec": {
   "display_name": "Python 3",
   "language": "python",
   "name": "python3"
  },
  "language_info": {
   "name": "python",
   "version": "3.x"
  }
 },
 "nbformat": 4,
 "nbformat_minor": 5
}
