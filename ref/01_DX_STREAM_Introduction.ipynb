{
 "cells": [
  {
   "cell_type": "markdown",
   "id": "8f310587",
   "metadata": {},
   "source": [
    "# DX-STREAM Tutorial 1 — Introduction\n",
    "_Last updated: 2025-10-19 22:39_\n",
    "\n",
    "### Goals\n",
    "- Understand what DX-STREAM is and where it fits in the DEEPX SDK\n",
    "- Learn the core elements (DxPreprocess → DxInfer → DxPostprocess → DxTracker → DxOsd)\n",
    "- See the model workflow from ONNX to DXNN to runtime\n",
    "\n",
    "### Prerequisites\n",
    "- Ubuntu 18.04/20.04/22.04/24.04 (x86_64)\n",
    "- DX-RT **3.0.0+** installed (driver + runtime)\n",
    "- GStreamer 1.16+ recommended\n",
    "\n",
    "> Tip: If you plan to actually run pipelines from the notebook, ensure X11/Wayland forwarding is configured if you're remote."
   ]
  },
  {
   "cell_type": "markdown",
   "id": "201ac7c9",
   "metadata": {},
   "source": [
    "## DEEPX SDK Architecture (Quick Overview)\n",
    "- **DX-COM**: compiles ONNX + JSON → **.dxnn** (INT8/optimized) \n",
    "- **DX-RT**: runtime that executes **.dxnn** on the NPU (C/C++/Python APIs)\n",
    "- **DX-STREAM**: GStreamer plugin set for end-to-end vision pipelines\n",
    "- **ModelZoo / DX-APP**: ready models & examples"
   ]
  },
  {
   "cell_type": "markdown",
   "id": "7f07bf38",
   "metadata": {},
   "source": [
    "## DX-STREAM Pipeline at a Glance\n",
    "```text\n",
    "Source → (decodebin) → DxPreprocess → DxInfer → DxPostprocess → DxTracker → DxOsd → Sink\n",
    "```\n",
    "- **DxPreprocess**: resize/ROI/color space, optional custom library\n",
    "- **DxInfer**: runs .dxnn model, links to preprocess via `preprocess-id`\n",
    "- **DxPostprocess**: decode tensors → metadata, optional custom library\n",
    "- **DxTracker**: assign stable IDs (e.g., OC_SORT)\n",
    "- **DxOsd**: draw boxes/labels/poses/segmentation onto frames"
   ]
  },
  {
   "cell_type": "markdown",
   "id": "ba58a2db",
   "metadata": {},
   "source": [
    "## Model Workflow\n",
    "1. **Compile**: ONNX → `.dxnn` using DX-COM\n",
    "2. **Execute**: load `.dxnn` via DX-RT inside **DxInfer**\n",
    "3. **Integrate**: wire preprocess/postprocess/tracking/OSD in a GStreamer pipeline"
   ]
  },
  {
   "cell_type": "markdown",
   "id": "1fd69a9a",
   "metadata": {},
   "source": [
    "## Verify Plugin Availability\n",
    "Run the following to ensure the plugin is registered:\n"
   ]
  },
  {
   "cell_type": "code",
   "execution_count": null,
   "id": "b82ff3f2",
   "metadata": {},
   "outputs": [],
   "source": [
    "!gst-inspect-1.0 dxstream || echo 'dxstream plugin not found'"
   ]
  },
  {
   "cell_type": "markdown",
   "id": "631fad9a",
   "metadata": {},
   "source": [
    "## Best Practices\n",
    "- Keep element **IDs** (`preprocess-id`, `inference-id`) consistent across Pre/Infer/Post.\n",
    "- Add **`queue`** between heavy elements to decouple latencies.\n",
    "- For remote sessions, prefer **`autovideosink`** or use **`sync=false`** to reduce stutter.\n",
    "- If Rockchip RGA is available, DX-STREAM can offload color/resize/OSD to HW.\n",
    "- Use JSON configs to keep pipelines reproducible and clean."
   ]
  }
 ],
 "metadata": {
  "kernelspec": {
   "display_name": "Python 3",
   "language": "python",
   "name": "python3"
  },
  "language_info": {
   "name": "python",
   "version": "3.x"
  }
 },
 "nbformat": 4,
 "nbformat_minor": 5
}
