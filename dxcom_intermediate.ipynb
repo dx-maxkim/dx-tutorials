{
  "cells": [
    {
      "cell_type": "markdown",
      "metadata": {},
      "source": "# 중급 튜토리얼: YOLOv5 객체 탐지 모델 컴파일"
    },
    {
      "cell_type": "markdown",
      "metadata": {},
      "source": "# DEEPX DX-COM 튜토리얼 (Ubuntu 24.04 + JupyterLab)\n이 노트북은 DEEPX **DX-COM v2.0.0**을 사용하여 ONNX 모델을 **.dxnn**으로 컴파일하는 실습을 단계별로 안내합니다.\n**중요:** DX-COM 패키지(tar.gz)를 이미 이 작업 디렉터리에 내려받았다고 가정합니다.\n압축을 풀면 `./dx_com/` 폴더가 생기며, 그 안에 `dx_com` 실행파일과 샘플이 포함되어 있습니다.\n\n**학습 목표**\n- YOLOv5 PyTorch 가중치 → ONNX 내보내기\n- YOLO 전처리(JSON) 구성 및 캘리브레이션\n- DX-COM 컴파일 및 .dxnn 확인\n"
    },
    {
      "cell_type": "markdown",
      "metadata": {},
      "source": "## 1) 의존 패키지 설치 및 YOLOv5 코드 받기"
    },
    {
      "cell_type": "code",
      "execution_count": null,
      "metadata": {},
      "outputs": [],
      "source": "# 시스템 라이브러리\n!sudo apt-get update -y && sudo apt-get install -y --no-install-recommends libgl1-mesa-glx libglib2.0-0\n\n# 파이썬 패키지\n!pip install --quiet torch torchvision onnx\n\n# YOLOv5 레포 및 의존성\n!git clone https://github.com/ultralytics/yolov5.git || true\n!pip install --quiet -r yolov5/requirements.txt\n\n# 가중치 다운로드 (v7.0 릴리즈 참조)\n!wget -q -P yolov5 https://github.com/ultralytics/yolov5/releases/download/v7.0/yolov5s.pt || true\n\n# DX-COM 패키지 해제 (이미 해제했으면 생략)\n!ls -1 *.tar.gz || true\n!tar -xzf dx_com_M1_v2.0.0.tar.gz || echo '이미 해제했거나 파일명을 맞춰주세요.'"
    },
    {
      "cell_type": "markdown",
      "metadata": {},
      "source": "## 2) YOLOv5s를 ONNX로 익스포트"
    },
    {
      "cell_type": "code",
      "execution_count": null,
      "metadata": {},
      "outputs": [],
      "source": "# export.py 사용하여 ONNX 내보내기\n!python yolov5/export.py --weights yolov5/yolov5s.pt --img 640 --batch 1 --include onnx\n\n# 산출물 확인 및 이동(선택)\n!ls -lh yolov5/*.onnx"
    },
    {
      "cell_type": "markdown",
      "metadata": {},
      "source": "## 3) DX-COM JSON 구성 (YOLO 입력/전처리/캘리브레이션)"
    },
    {
      "cell_type": "code",
      "execution_count": null,
      "metadata": {},
      "outputs": [],
      "source": "import json, os\n\nyolo_cfg = {\n  \"inputs\": {\"images\": [1,3,640,640]},\n  \"calibration_num\": 5,\n  \"calibration_method\": \"ema\",\n  \"default_loader\": {\n    \"dataset_path\": \"./yolov5/data/images\",\n    \"file_extensions\": [\"jpg\",\"jpeg\",\"png\"],\n    \"preprocessings\": [\n      {\"convertColor\": {\"form\": \"BGR2RGB\"}},\n      {\"resize\": {\"width\": 640, \"height\": 640, \"interpolation\": \"LINEAR\"}},\n      {\"div\": {\"x\": 255.0}}\n    ]\n  }\n}\nwith open(\"yolov5s.json\",\"w\") as f:\n    json.dump(yolo_cfg,f,indent=2)\nprint(\"✅ JSON 저장: yolov5s.json\")\nos.system(\"sed -n '1,120p' yolov5s.json\")"
    },
    {
      "cell_type": "markdown",
      "metadata": {},
      "source": "## 4) DX-COM으로 컴파일 실행"
    },
    {
      "cell_type": "code",
      "execution_count": null,
      "metadata": {},
      "outputs": [],
      "source": "# 출력 폴더\n!mkdir -p dx_com/output/yolov5s\n\n# YOLOv5s ONNX 경로\n!test -f yolov5/yolov5s.onnx && echo 'onnx ok' || echo 'yolov5s.onnx 경로를 확인하세요.'\n\n# 컴파일\n!./dx_com/dx_com -m yolov5/yolov5s.onnx -c yolov5s.json -o dx_com/output/yolov5s || echo 'DX-COM 실행 실패시 경로/권한/의존성 확인'\n\n# 결과 확인\n!ls -lh dx_com/output/yolov5s"
    },
    {
      "cell_type": "markdown",
      "metadata": {},
      "source": "## 5) 팁 & 주의\n- NMS는 ONNX에 포함하지 않는 것을 권장 (후처리는 앱/런타임에서 수행)\n- Letterbox를 정확히 재현하려면 고급 튜토리얼의 custom loader 접근 검토\n- 정확도 튜닝: calibration 데이터 다양화, 수량 증가, ema vs minmax 비교\n"
    }
  ],
  "metadata": {
    "kernelspec": {
      "display_name": "Python 3",
      "language": "python",
      "name": "python3"
    },
    "language_info": {
      "name": "python",
      "version": "3.x"
    }
  },
  "nbformat": 4,
  "nbformat_minor": 5
}